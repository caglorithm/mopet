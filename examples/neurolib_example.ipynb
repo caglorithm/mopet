{
 "cells": [
  {
   "cell_type": "code",
   "execution_count": 1,
   "metadata": {},
   "outputs": [],
   "source": [
    "%load_ext autoreload\n",
    "%autoreload 2\n",
    "\n",
    "import logging\n",
    "logger = logging.getLogger()\n",
    "logger.setLevel(logging.INFO)"
   ]
  },
  {
   "cell_type": "code",
   "execution_count": 1,
   "metadata": {},
   "outputs": [],
   "source": [
    "import numpy as np\n",
    "\n",
    "!pip install neurolib\n",
    "from neurolib.models.aln import ALNModel\n",
    "from neurolib.utils.loadData import Dataset\n",
    "ds = Dataset(\"hcp\")\n",
    "\n",
    "import mopet\n",
    "\n",
    "\n",
    "!rm exploration.h5\n",
    "\n",
    "model = ALNModel(Cmat = ds.Cmat, Dmat = ds.Dmat)\n",
    "#model = ALNModel()\n",
    "model.params.duration = 1*1000\n",
    "\n",
    "def evalFunction(params):\n",
    "    model.params = params\n",
    "    model.run()\n",
    "    return model.outputs\n",
    "\n",
    "params = model.params\n",
    "explore_params = {\"mue_ext_mean\" : np.linspace(0, 2, 3)}\n",
    "ex = mopet.Exploration(evalFunction, params, explore_params)"
   ]
  },
  {
   "cell_type": "code",
   "execution_count": 2,
   "metadata": {},
   "outputs": [
    {
     "name": "stderr",
     "output_type": "stream",
     "text": [
      "2020-03-12 23:30:48,864\tWARNING worker.py:682 -- WARNING: Not updating worker name since `setproctitle` is not installed. Install this with `pip install setproctitle` (or ray[debug]) to enable monitoring of worker processes.\n",
      "2020-03-12 23:30:48,915\tINFO resource_spec.py:212 -- Starting Ray with 2.44 GiB memory available for workers and up to 1.24 GiB for objects. You can adjust these settings with ray.init(memory=<bytes>, object_store_memory=<bytes>).\n",
      "2020-03-12 23:30:49,266\tWARNING services.py:1080 -- Failed to start the dashboard. The dashboard requires Python 3 as well as 'pip install aiohttp psutil setproctitle grpcio'.\n",
      "WARNING:root:Could not store dict entry model (type: <class 'str'>)\n",
      "WARNING:root:Could not store dict entry name (type: <class 'str'>)\n",
      "WARNING:root:Could not store dict entry description (type: <class 'str'>)\n"
     ]
    }
   ],
   "source": [
    "ex.run()"
   ]
  },
  {
   "cell_type": "code",
   "execution_count": 16,
   "metadata": {},
   "outputs": [],
   "source": [
    "import ppet\n",
    "import numpy as np\n",
    "\n",
    "!rm exploration.h5\n",
    "\n",
    "def evalFunction(params):\n",
    "    result_float = abs((params[\"x\"] ** 2 + params[\"x\"] ** 2) - 1)\n",
    "    result_array = np.random.randn(np.random.randint(1, 131), np.random.randint(1, 5000))\n",
    "    result = {}\n",
    "    result[\"float_result\"] = result_float\n",
    "    result[\"array_result\"] = result_array\n",
    "    return result\n",
    "\n",
    "params = {\"x\": 1.3, \"y\": 2.7, \"z\": 0.0}\n",
    "explore_params = {\"x\": np.linspace(-3, 3, 11), \"y\": np.linspace(-3, 3, 10)}\n",
    "    \n",
    "ex = ppet.Exploration(evalFunction, params, explore_params)"
   ]
  },
  {
   "cell_type": "code",
   "execution_count": 154,
   "metadata": {},
   "outputs": [
    {
     "name": "stdout",
     "output_type": "stream",
     "text": [
      "test.h5 (File) 'ppet explorations'\n",
      "Last modif.: 'Thu Mar 12 16:45:38 2020'\n",
      "Object Tree: \n",
      "/ (RootGroup) 'ppet explorations'\n",
      "/run_2020_03_12_16H_45M_38S (Group) ''\n",
      "/run_2020_03_12_16H_45M_38S/results (Group) ''\n",
      "/run_2020_03_12_16H_45M_38S/run_0 (Group) ''\n",
      "/run_2020_03_12_16H_45M_38S/run_0/result_0 (Array()) ''\n",
      "/run_2020_03_12_16H_45M_38S/run_0/result_1 (Array()) ''\n",
      "/run_2020_03_12_16H_45M_38S/run_1 (Group) ''\n",
      "/run_2020_03_12_16H_45M_38S/run_1/result_0 (Array()) ''\n",
      "/run_2020_03_12_16H_45M_38S/run_1/result_1 (Array()) ''\n",
      "/run_2020_03_12_16H_45M_38S/run_2 (Group) ''\n",
      "/run_2020_03_12_16H_45M_38S/run_2/result_0 (Array()) ''\n",
      "/run_2020_03_12_16H_45M_38S/run_2/result_1 (Array()) ''\n",
      "\n"
     ]
    }
   ],
   "source": [
    "\n",
    "hdf_filename = \"test.h5\"\n",
    "!rm test.h5\n",
    "\n",
    "\n",
    "h5file = tables.open_file(hdf_filename, mode=\"a\", title=\"ppet explorations\")\n",
    "run_str =  \"run\" + datetime.datetime.now().strftime(\"_%Y_%m_%d_%HH_%MM_%SS\")\n",
    "run_group = h5file.create_group(\"/\",run_str)\n",
    "results_group = h5file.create_group(h5file.root[run_str], \"results\")\n",
    "\n",
    "runs = range(3)\n",
    "for run in runs:\n",
    "    run = \"run_\" + str(run)\n",
    "    run_results_group = h5file.create_group(h5file.root[run_str], str(run))\n",
    "    for res in range(2):\n",
    "        res = \"result_\" + str(res)\n",
    "        x = np.random.randn(np.random.randint(1, 13), np.random.randint(1, 23))\n",
    "        ds = h5file.create_array(run_results_group, str(res), obj = x)\n",
    "\n",
    "print(h5file)\n",
    "h5file.close()"
   ]
  },
  {
   "cell_type": "code",
   "execution_count": 6,
   "metadata": {},
   "outputs": [],
   "source": [
    "import ray\n",
    "import numpy as np\n",
    "import copy\n",
    "\n",
    "class RayTest():\n",
    "    def __init__(self, func, params):\n",
    "        ray.shutdown()\n",
    "        ray.init()\n",
    "        \n",
    "        self.func = func\n",
    "        self.params = copy.deepcopy(params)\n",
    "\n",
    "    @ray.remote\n",
    "    def f(self, params):\n",
    "        r = self.func(params)\n",
    "        return r\n",
    "    \n",
    "    def run(self):\n",
    "        self.results = {}\n",
    "        for i in np.linspace(0, 2, 11):\n",
    "            self.params[\"mue_ext_mean\"] = i\n",
    "            a = self.f.remote(self, self.params)\n",
    "            self.results[i] = a\n",
    "\n",
    "    def get(self):\n",
    "        for rkey, ray_result in self.results.items():\n",
    "            rval = ray.get(ray_result)\n",
    "            print(rval)"
   ]
  },
  {
   "cell_type": "code",
   "execution_count": 7,
   "metadata": {},
   "outputs": [
    {
     "name": "stderr",
     "output_type": "stream",
     "text": [
      "INFO:root:aln: Model initialized.\n"
     ]
    }
   ],
   "source": [
    "from neurolib.models.aln import ALNModel\n",
    "model = ALNModel()"
   ]
  },
  {
   "cell_type": "code",
   "execution_count": 8,
   "metadata": {},
   "outputs": [],
   "source": [
    "#model.run()"
   ]
  },
  {
   "cell_type": "code",
   "execution_count": 11,
   "metadata": {},
   "outputs": [],
   "source": [
    "from ppet.ppet import RayTest"
   ]
  },
  {
   "cell_type": "code",
   "execution_count": 16,
   "metadata": {},
   "outputs": [
    {
     "name": "stderr",
     "output_type": "stream",
     "text": [
      "2020-03-12 21:34:54,369\tWARNING worker.py:682 -- WARNING: Not updating worker name since `setproctitle` is not installed. Install this with `pip install setproctitle` (or ray[debug]) to enable monitoring of worker processes.\n",
      "2020-03-12 21:34:54,419\tINFO resource_spec.py:212 -- Starting Ray with 3.56 GiB memory available for workers and up to 1.79 GiB for objects. You can adjust these settings with ray.init(memory=<bytes>, object_store_memory=<bytes>).\n",
      "2020-03-12 21:34:54,765\tWARNING services.py:1080 -- Failed to start the dashboard. The dashboard requires Python 3 as well as 'pip install aiohttp psutil setproctitle grpcio'.\n"
     ]
    }
   ],
   "source": [
    "# class Test():\n",
    "#     def __init__(self):\n",
    "#         a = 0\n",
    "#     def run(self, b):\n",
    "#         a = b + 123\n",
    "#         return a\n",
    "    \n",
    "def func(params):\n",
    "    model.run()\n",
    "    model.params = params\n",
    "    return model.outputs\n",
    "\n",
    "\n",
    "r = RayTest(func, model.params)"
   ]
  },
  {
   "cell_type": "code",
   "execution_count": 17,
   "metadata": {},
   "outputs": [
    {
     "ename": "AttributeError",
     "evalue": "'RayTest' object has no attribute 'explore_params_list'",
     "output_type": "error",
     "traceback": [
      "\u001b[0;31m---------------------------------------------------------------------------\u001b[0m",
      "\u001b[0;31mAttributeError\u001b[0m                            Traceback (most recent call last)",
      "\u001b[0;32m<ipython-input-17-65f6f5f86dd5>\u001b[0m in \u001b[0;36m<module>\u001b[0;34m\u001b[0m\n\u001b[0;32m----> 1\u001b[0;31m \u001b[0mr\u001b[0m\u001b[0;34m.\u001b[0m\u001b[0mrun\u001b[0m\u001b[0;34m(\u001b[0m\u001b[0;34m)\u001b[0m\u001b[0;34m\u001b[0m\u001b[0;34m\u001b[0m\u001b[0m\n\u001b[0m",
      "\u001b[0;32m~/Documents/PhD/projects/ppet/ppet/ppet.py\u001b[0m in \u001b[0;36mrun\u001b[0;34m(self)\u001b[0m\n\u001b[1;32m    199\u001b[0m         \u001b[0mself\u001b[0m\u001b[0;34m.\u001b[0m\u001b[0mresults\u001b[0m \u001b[0;34m=\u001b[0m \u001b[0;34m{\u001b[0m\u001b[0;34m}\u001b[0m\u001b[0;34m\u001b[0m\u001b[0;34m\u001b[0m\u001b[0m\n\u001b[1;32m    200\u001b[0m         \u001b[0;31m# for i in np.linspace(0, 2, 11):\u001b[0m\u001b[0;34m\u001b[0m\u001b[0;34m\u001b[0m\u001b[0;34m\u001b[0m\u001b[0m\n\u001b[0;32m--> 201\u001b[0;31m         \u001b[0;32mfor\u001b[0m \u001b[0mupdate_params\u001b[0m \u001b[0;32min\u001b[0m \u001b[0mself\u001b[0m\u001b[0;34m.\u001b[0m\u001b[0mexplore_params_list\u001b[0m\u001b[0;34m:\u001b[0m\u001b[0;34m\u001b[0m\u001b[0;34m\u001b[0m\u001b[0m\n\u001b[0m\u001b[1;32m    202\u001b[0m             \u001b[0mprint\u001b[0m\u001b[0;34m(\u001b[0m\u001b[0mupdate_params\u001b[0m\u001b[0;34m)\u001b[0m\u001b[0;34m\u001b[0m\u001b[0;34m\u001b[0m\u001b[0m\n\u001b[1;32m    203\u001b[0m             \u001b[0;31m# self.params[\"mue_ext_mean\"] = i\u001b[0m\u001b[0;34m\u001b[0m\u001b[0;34m\u001b[0m\u001b[0;34m\u001b[0m\u001b[0m\n",
      "\u001b[0;31mAttributeError\u001b[0m: 'RayTest' object has no attribute 'explore_params_list'"
     ]
    }
   ],
   "source": [
    "r.run()"
   ]
  },
  {
   "cell_type": "code",
   "execution_count": 15,
   "metadata": {},
   "outputs": [
    {
     "name": "stdout",
     "output_type": "stream",
     "text": [
      "{'t': array([1.0000e-01, 2.0000e-01, 3.0000e-01, ..., 1.9998e+03, 1.9999e+03,\n",
      "       2.0000e+03]), 'rates_exc': array([[26.15770656, 24.06801404, 22.20402896, ...,  4.19831954,\n",
      "         4.11221427,  4.03077797]]), 'rates_inh': array([[63.79426742, 58.30968605, 53.80882255, ...,  9.53222441,\n",
      "         9.53602151,  9.53730842]])}\n",
      "{'t': array([1.0000e-01, 2.0000e-01, 3.0000e-01, ..., 1.9998e+03, 1.9999e+03,\n",
      "       2.0000e+03]), 'rates_exc': array([[26.15770656, 24.06801404, 22.20402896, ...,  4.19831954,\n",
      "         4.11221427,  4.03077797]]), 'rates_inh': array([[63.79426742, 58.30968605, 53.80882255, ...,  9.53222441,\n",
      "         9.53602151,  9.53730842]])}\n",
      "{'t': array([1.0000e-01, 2.0000e-01, 3.0000e-01, ..., 1.9998e+03, 1.9999e+03,\n",
      "       2.0000e+03]), 'rates_exc': array([[26.15770656, 24.06801404, 22.20402896, ...,  4.19831954,\n",
      "         4.11221427,  4.03077797]]), 'rates_inh': array([[63.79426742, 58.30968605, 53.80882255, ...,  9.53222441,\n",
      "         9.53602151,  9.53730842]])}\n",
      "{'t': array([1.0000e-01, 2.0000e-01, 3.0000e-01, ..., 1.9998e+03, 1.9999e+03,\n",
      "       2.0000e+03]), 'rates_exc': array([[26.15770656, 24.06801404, 22.20402896, ...,  4.19831954,\n",
      "         4.11221427,  4.03077797]]), 'rates_inh': array([[63.79426742, 58.30968605, 53.80882255, ...,  9.53222441,\n",
      "         9.53602151,  9.53730842]])}\n",
      "{'t': array([1.0000e-01, 2.0000e-01, 3.0000e-01, ..., 1.9998e+03, 1.9999e+03,\n",
      "       2.0000e+03]), 'rates_exc': array([[26.15770656, 24.06801404, 22.20402896, ...,  4.19831954,\n",
      "         4.11221427,  4.03077797]]), 'rates_inh': array([[63.79426742, 58.30968605, 53.80882255, ...,  9.53222441,\n",
      "         9.53602151,  9.53730842]])}\n",
      "{'t': array([1.0000e-01, 2.0000e-01, 3.0000e-01, ..., 1.9998e+03, 1.9999e+03,\n",
      "       2.0000e+03]), 'rates_exc': array([[26.15770656, 24.06801404, 22.20402896, ...,  4.19831954,\n",
      "         4.11221427,  4.03077797]]), 'rates_inh': array([[63.79426742, 58.30968605, 53.80882255, ...,  9.53222441,\n",
      "         9.53602151,  9.53730842]])}\n",
      "{'t': array([1.0000e-01, 2.0000e-01, 3.0000e-01, ..., 1.9998e+03, 1.9999e+03,\n",
      "       2.0000e+03]), 'rates_exc': array([[26.15770656, 24.06801404, 22.20402896, ...,  4.19831954,\n",
      "         4.11221427,  4.03077797]]), 'rates_inh': array([[63.79426742, 58.30968605, 53.80882255, ...,  9.53222441,\n",
      "         9.53602151,  9.53730842]])}\n",
      "{'t': array([1.0000e-01, 2.0000e-01, 3.0000e-01, ..., 1.9998e+03, 1.9999e+03,\n",
      "       2.0000e+03]), 'rates_exc': array([[26.15770656, 24.06801404, 22.20402896, ...,  4.19831954,\n",
      "         4.11221427,  4.03077797]]), 'rates_inh': array([[63.79426742, 58.30968605, 53.80882255, ...,  9.53222441,\n",
      "         9.53602151,  9.53730842]])}\n",
      "{'t': array([1.0000e-01, 2.0000e-01, 3.0000e-01, ..., 1.9998e+03, 1.9999e+03,\n",
      "       2.0000e+03]), 'rates_exc': array([[26.15770656, 24.06801404, 22.20402896, ...,  4.19831954,\n",
      "         4.11221427,  4.03077797]]), 'rates_inh': array([[63.79426742, 58.30968605, 53.80882255, ...,  9.53222441,\n",
      "         9.53602151,  9.53730842]])}\n",
      "{'t': array([1.0000e-01, 2.0000e-01, 3.0000e-01, ..., 1.9998e+03, 1.9999e+03,\n",
      "       2.0000e+03]), 'rates_exc': array([[26.15770656, 24.06801404, 22.20402896, ...,  4.19831954,\n",
      "         4.11221427,  4.03077797]]), 'rates_inh': array([[63.79426742, 58.30968605, 53.80882255, ...,  9.53222441,\n",
      "         9.53602151,  9.53730842]])}\n",
      "{'t': array([1.0000e-01, 2.0000e-01, 3.0000e-01, ..., 1.9998e+03, 1.9999e+03,\n",
      "       2.0000e+03]), 'rates_exc': array([[26.15770656, 24.06801404, 22.20402896, ...,  4.19831954,\n",
      "         4.11221427,  4.03077797]]), 'rates_inh': array([[63.79426742, 58.30968605, 53.80882255, ...,  9.53222441,\n",
      "         9.53602151,  9.53730842]])}\n"
     ]
    }
   ],
   "source": [
    "r.get()"
   ]
  },
  {
   "cell_type": "code",
   "execution_count": 28,
   "metadata": {},
   "outputs": [
    {
     "ename": "NameError",
     "evalue": "name 'results' is not defined",
     "output_type": "error",
     "traceback": [
      "\u001b[0;31m---------------------------------------------------------------------------\u001b[0m",
      "\u001b[0;31mNameError\u001b[0m                                 Traceback (most recent call last)",
      "\u001b[0;32m<ipython-input-28-1cfe3beb01d6>\u001b[0m in \u001b[0;36m<module>\u001b[0;34m\u001b[0m\n\u001b[0;32m----> 1\u001b[0;31m \u001b[0;32mfor\u001b[0m \u001b[0mrkey\u001b[0m\u001b[0;34m,\u001b[0m \u001b[0mray_result\u001b[0m \u001b[0;32min\u001b[0m \u001b[0mresults\u001b[0m\u001b[0;34m.\u001b[0m\u001b[0mitems\u001b[0m\u001b[0;34m(\u001b[0m\u001b[0;34m)\u001b[0m\u001b[0;34m:\u001b[0m\u001b[0;34m\u001b[0m\u001b[0;34m\u001b[0m\u001b[0m\n\u001b[0m\u001b[1;32m      2\u001b[0m     \u001b[0mrval\u001b[0m \u001b[0;34m=\u001b[0m \u001b[0mray\u001b[0m\u001b[0;34m.\u001b[0m\u001b[0mget\u001b[0m\u001b[0;34m(\u001b[0m\u001b[0mray_result\u001b[0m\u001b[0;34m)\u001b[0m\u001b[0;34m\u001b[0m\u001b[0;34m\u001b[0m\u001b[0m\n\u001b[1;32m      3\u001b[0m     \u001b[0mprint\u001b[0m\u001b[0;34m(\u001b[0m\u001b[0mrval\u001b[0m\u001b[0;34m)\u001b[0m\u001b[0;34m\u001b[0m\u001b[0;34m\u001b[0m\u001b[0m\n",
      "\u001b[0;31mNameError\u001b[0m: name 'results' is not defined"
     ]
    }
   ],
   "source": [
    "for rkey, ray_result in results.items():\n",
    "    rval = ray.get(ray_result)\n",
    "    print(rval)"
   ]
  },
  {
   "cell_type": "code",
   "execution_count": 44,
   "metadata": {},
   "outputs": [
    {
     "data": {
      "text/plain": [
       "1"
      ]
     },
     "execution_count": 44,
     "metadata": {},
     "output_type": "execute_result"
    }
   ],
   "source": [
    "ray.get(a)"
   ]
  },
  {
   "cell_type": "code",
   "execution_count": 48,
   "metadata": {},
   "outputs": [
    {
     "data": {
      "text/plain": [
       "{0: ObjectID(55c3b2b635949d81ffffffff010000c801000000),\n",
       " 1: ObjectID(9fc77bf30b438997ffffffff010000c801000000),\n",
       " 2: ObjectID(9d28cb176c7f7501ffffffff010000c801000000),\n",
       " 3: ObjectID(15c675b22d037e3bffffffff010000c801000000),\n",
       " 4: ObjectID(8603ac10b8c093b3ffffffff010000c801000000),\n",
       " 5: ObjectID(276fa5c994b5ce43ffffffff010000c801000000),\n",
       " 6: ObjectID(2ca53902e2591031ffffffff010000c801000000),\n",
       " 7: ObjectID(876814b884fba94dffffffff010000c801000000),\n",
       " 8: ObjectID(7dec8564195ad979ffffffff010000c801000000),\n",
       " 9: ObjectID(0bead116322a6c2bffffffff010000c801000000)}"
      ]
     },
     "execution_count": 48,
     "metadata": {},
     "output_type": "execute_result"
    }
   ],
   "source": [
    "results"
   ]
  },
  {
   "cell_type": "code",
   "execution_count": null,
   "metadata": {},
   "outputs": [],
   "source": []
  }
 ],
 "metadata": {
  "kernelspec": {
   "display_name": "Python 3",
   "language": "python",
   "name": "python3"
  },
  "language_info": {
   "codemirror_mode": {
    "name": "ipython",
    "version": 3
   },
   "file_extension": ".py",
   "mimetype": "text/x-python",
   "name": "python",
   "nbconvert_exporter": "python",
   "pygments_lexer": "ipython3",
   "version": "3.7.3"
  }
 },
 "nbformat": 4,
 "nbformat_minor": 4
}
