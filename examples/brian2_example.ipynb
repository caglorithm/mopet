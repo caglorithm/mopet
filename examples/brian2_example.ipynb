{
 "cells": [
  {
   "cell_type": "code",
   "execution_count": 2,
   "metadata": {},
   "outputs": [
    {
     "name": "stdout",
     "output_type": "stream",
     "text": [
      "The autoreload extension is already loaded. To reload it, use:\n",
      "  %reload_ext autoreload\n"
     ]
    }
   ],
   "source": [
    "# Change into the root directory of the project\n",
    "import os\n",
    "if os.getcwd().split(\"/\")[-1] == \"examples\":\n",
    "    os.chdir('..')\n",
    "\n",
    "%load_ext autoreload\n",
    "%autoreload 2\n",
    "\n",
    "import logging\n",
    "logger = logging.getLogger()\n",
    "logger.setLevel(logging.INFO)"
   ]
  },
  {
   "cell_type": "code",
   "execution_count": 3,
   "metadata": {
    "pycharm": {
     "name": "#%%\n"
    }
   },
   "outputs": [],
   "source": [
    "# !pip install brian2\n",
    "# !pip install matplotlib"
   ]
  },
  {
   "cell_type": "code",
   "execution_count": 4,
   "metadata": {
    "pycharm": {
     "name": "#%%\n"
    }
   },
   "outputs": [],
   "source": [
    "import mopet\n",
    "import random as r\n",
    "import matplotlib.pyplot as plt\n",
    "from brian2 import *"
   ]
  },
  {
   "cell_type": "code",
   "execution_count": 5,
   "metadata": {
    "pycharm": {
     "name": "#%%\n"
    }
   },
   "outputs": [],
   "source": [
    "def model(params):\n",
    "    \"\"\"Defines and runs a Brian2 model parameterized by `params`.\n",
    "\n",
    "    :param params: dict passed by mopet containing specific values of one combination.\n",
    "    :return: dict containing simulation results.\n",
    "    \"\"\"\n",
    "    tau = params.get(\"tau\", 20)*ms\n",
    "    n = 100\n",
    "    b = params.get(\"b\", 1.2) # constant current mean, the modulation varies\n",
    "    freq = 10*Hz\n",
    "\n",
    "    eqs = '''\n",
    "    dv/dt = (-v + a * sin(2 * pi * freq * t) + b) / tau : 1\n",
    "    a : 1\n",
    "    '''\n",
    "    neurons = NeuronGroup(n, model=eqs, threshold='v > 1', reset='v = 0',\n",
    "                          method='euler')\n",
    "    neurons.v = 'rand()'\n",
    "    neurons.a = '0.05 + 0.7*i/n'\n",
    "    S = SpikeMonitor(neurons)\n",
    "    trace = StateMonitor(neurons, 'v', record=50)\n",
    "\n",
    "    network = Network(neurons, S, trace)\n",
    "    network.run(1000*ms)\n",
    "\n",
    "    device.reinit()\n",
    "\n",
    "    return {\n",
    "        \"spikes\": S.num_spikes,\n",
    "        \"trace\": trace.v,\n",
    "        # TODO: replace by an actual metric\n",
    "        \"metric\": r.gauss(3, 0.5)\n",
    "    }"
   ]
  },
  {
   "cell_type": "code",
   "execution_count": 6,
   "metadata": {
    "pycharm": {
     "name": "#%%\n"
    }
   },
   "outputs": [
    {
     "data": {
      "text/plain": [
       "{'spikes': 2755,\n",
       " 'trace': array([[0.44671259, 0.45047903, 0.4542392 , ..., 0.89480749, 0.89629575,\n",
       "         0.89778914]]),\n",
       " 'metric': 2.671731889936507}"
      ]
     },
     "execution_count": 6,
     "metadata": {},
     "output_type": "execute_result"
    }
   ],
   "source": [
    "# Test if model runs with default values\n",
    "model({})"
   ]
  },
  {
   "cell_type": "code",
   "execution_count": 7,
   "metadata": {
    "pycharm": {
     "name": "#%%\n"
    }
   },
   "outputs": [],
   "source": [
    "# TODO:\n",
    "# * Define model that we can explore\n",
    "# * Select a metric, e.g. phase synchronization\n",
    "# * Select two exploration parameters"
   ]
  },
  {
   "cell_type": "code",
   "execution_count": 8,
   "metadata": {
    "pycharm": {
     "name": "#%%\n"
    }
   },
   "outputs": [],
   "source": [
    "explore_params = {\n",
    "    \"tau_e\": np.linspace(10, 20, 5),\n",
    "    \"b_e\": np.linspace(1., 2., 5),\n",
    " }\n",
    "\n",
    "ex = mopet.Exploration(model, explore_params, exploration_name=\"brian2\", hdf_filename=\"brian2.h5\")\n"
   ]
  },
  {
   "cell_type": "code",
   "execution_count": 9,
   "metadata": {
    "pycharm": {
     "name": "#%%\n"
    }
   },
   "outputs": [
    {
     "name": "stderr",
     "output_type": "stream",
     "text": [
      "2021-02-03 22:02:54,274\tINFO resource_spec.py:212 -- Starting Ray with 9.28 GiB memory available for workers and up to 4.64 GiB for objects. You can adjust these settings with ray.init(memory=<bytes>, object_store_memory=<bytes>).\n",
      "2021-02-03 22:02:54,506\tWARNING services.py:923 -- Redis failed to start, retrying now.\n",
      "2021-02-03 22:02:54,762\tINFO services.py:1165 -- View the Ray dashboard at \u001b[1m\u001b[32mlocalhost:8265\u001b[39m\u001b[22m\n",
      "INFO:root:Starting 25 jobs.\n",
      "100%|██████████| 25/25 [00:00<00:00, 1138.02it/s]\n",
      "INFO:root:Runs took 0.031694650650024414 s to submit.\n",
      "100%|██████████| 25/25 [00:09<00:00,  2.67it/s]\n",
      "INFO:root:Runs and storage took 9.380534887313843 s to complete.\n"
     ]
    }
   ],
   "source": [
    "ex.run()"
   ]
  },
  {
   "cell_type": "code",
   "execution_count": 10,
   "metadata": {
    "pycharm": {
     "name": "#%%\n"
    }
   },
   "outputs": [
    {
     "name": "stderr",
     "output_type": "stream",
     "text": [
      "INFO:root:brian2.h5 opened for reading.\n",
      "INFO:root:Gettings runs of exploration ``brian2``\n",
      "100%|██████████| 25/25 [00:00<00:00, 396.62it/s]\n",
      "INFO:root:Creating new results DataFrame\n",
      "INFO:root:Aggregating scalar results ...\n",
      "100%|██████████| 25/25 [00:00<00:00, 361.15it/s]\n",
      "INFO:root:brian2.h5 closed.\n"
     ]
    }
   ],
   "source": [
    "ex.load_results(all=True)"
   ]
  },
  {
   "cell_type": "code",
   "execution_count": 11,
   "metadata": {
    "pycharm": {
     "name": "#%%\n"
    }
   },
   "outputs": [
    {
     "data": {
      "text/plain": [
       "{0: {'b_e': 1.0, 'tau_e': 10.0},\n",
       " 1: {'b_e': 1.25, 'tau_e': 10.0},\n",
       " 10: {'b_e': 1.0, 'tau_e': 15.0},\n",
       " 11: {'b_e': 1.25, 'tau_e': 15.0},\n",
       " 12: {'b_e': 1.5, 'tau_e': 15.0},\n",
       " 13: {'b_e': 1.75, 'tau_e': 15.0},\n",
       " 14: {'b_e': 2.0, 'tau_e': 15.0},\n",
       " 15: {'b_e': 1.0, 'tau_e': 17.5},\n",
       " 16: {'b_e': 1.25, 'tau_e': 17.5},\n",
       " 17: {'b_e': 1.5, 'tau_e': 17.5},\n",
       " 18: {'b_e': 1.75, 'tau_e': 17.5},\n",
       " 19: {'b_e': 2.0, 'tau_e': 17.5},\n",
       " 2: {'b_e': 1.5, 'tau_e': 10.0},\n",
       " 20: {'b_e': 1.0, 'tau_e': 20.0},\n",
       " 21: {'b_e': 1.25, 'tau_e': 20.0},\n",
       " 22: {'b_e': 1.5, 'tau_e': 20.0},\n",
       " 23: {'b_e': 1.75, 'tau_e': 20.0},\n",
       " 24: {'b_e': 2.0, 'tau_e': 20.0},\n",
       " 3: {'b_e': 1.75, 'tau_e': 10.0},\n",
       " 4: {'b_e': 2.0, 'tau_e': 10.0},\n",
       " 5: {'b_e': 1.0, 'tau_e': 12.5},\n",
       " 6: {'b_e': 1.25, 'tau_e': 12.5},\n",
       " 7: {'b_e': 1.5, 'tau_e': 12.5},\n",
       " 8: {'b_e': 1.75, 'tau_e': 12.5},\n",
       " 9: {'b_e': 2.0, 'tau_e': 12.5}}"
      ]
     },
     "execution_count": 11,
     "metadata": {},
     "output_type": "execute_result"
    }
   ],
   "source": [
    "ex.params"
   ]
  },
  {
   "cell_type": "code",
   "execution_count": 12,
   "metadata": {
    "pycharm": {
     "name": "#%%\n"
    }
   },
   "outputs": [
    {
     "data": {
      "text/html": [
       "<div>\n",
       "<style scoped>\n",
       "    .dataframe tbody tr th:only-of-type {\n",
       "        vertical-align: middle;\n",
       "    }\n",
       "\n",
       "    .dataframe tbody tr th {\n",
       "        vertical-align: top;\n",
       "    }\n",
       "\n",
       "    .dataframe thead th {\n",
       "        text-align: right;\n",
       "    }\n",
       "</style>\n",
       "<table border=\"1\" class=\"dataframe\">\n",
       "  <thead>\n",
       "    <tr style=\"text-align: right;\">\n",
       "      <th></th>\n",
       "      <th>b_e</th>\n",
       "      <th>tau_e</th>\n",
       "      <th>metric</th>\n",
       "      <th>trace</th>\n",
       "    </tr>\n",
       "  </thead>\n",
       "  <tbody>\n",
       "    <tr>\n",
       "      <th>0</th>\n",
       "      <td>1</td>\n",
       "      <td>10</td>\n",
       "      <td>2.926179</td>\n",
       "      <td>[[0.5148905809177547, 0.518316128013166, 0.521...</td>\n",
       "    </tr>\n",
       "    <tr>\n",
       "      <th>1</th>\n",
       "      <td>1.25</td>\n",
       "      <td>10</td>\n",
       "      <td>3.432084</td>\n",
       "      <td>[[0.5977121360753959, 0.6007235753950189, 0.60...</td>\n",
       "    </tr>\n",
       "    <tr>\n",
       "      <th>10</th>\n",
       "      <td>1</td>\n",
       "      <td>15</td>\n",
       "      <td>2.484533</td>\n",
       "      <td>[[0.16821764963137054, 0.1733765613832137, 0.1...</td>\n",
       "    </tr>\n",
       "    <tr>\n",
       "      <th>11</th>\n",
       "      <td>1.25</td>\n",
       "      <td>15</td>\n",
       "      <td>2.609027</td>\n",
       "      <td>[[0.43913024643033616, 0.44293459519818446, 0....</td>\n",
       "    </tr>\n",
       "    <tr>\n",
       "      <th>12</th>\n",
       "      <td>1.5</td>\n",
       "      <td>15</td>\n",
       "      <td>2.658088</td>\n",
       "      <td>[[0.054215300618361884, 0.059944224115270076, ...</td>\n",
       "    </tr>\n",
       "    <tr>\n",
       "      <th>13</th>\n",
       "      <td>1.75</td>\n",
       "      <td>15</td>\n",
       "      <td>2.051392</td>\n",
       "      <td>[[0.1200261452984529, 0.12542601457196065, 0.1...</td>\n",
       "    </tr>\n",
       "    <tr>\n",
       "      <th>14</th>\n",
       "      <td>2</td>\n",
       "      <td>15</td>\n",
       "      <td>2.753020</td>\n",
       "      <td>[[0.6171896666184423, 0.6201037182853502, 0.62...</td>\n",
       "    </tr>\n",
       "    <tr>\n",
       "      <th>15</th>\n",
       "      <td>1</td>\n",
       "      <td>17.5</td>\n",
       "      <td>3.110651</td>\n",
       "      <td>[[0.026429144847883723, 0.0322969991236443, 0....</td>\n",
       "    </tr>\n",
       "    <tr>\n",
       "      <th>16</th>\n",
       "      <td>1.25</td>\n",
       "      <td>17.5</td>\n",
       "      <td>3.003202</td>\n",
       "      <td>[[0.6278581000626245, 0.6307188095623114, 0.63...</td>\n",
       "    </tr>\n",
       "    <tr>\n",
       "      <th>17</th>\n",
       "      <td>1.5</td>\n",
       "      <td>17.5</td>\n",
       "      <td>3.020776</td>\n",
       "      <td>[[0.33985533343162455, 0.3441560567644664, 0.3...</td>\n",
       "    </tr>\n",
       "    <tr>\n",
       "      <th>18</th>\n",
       "      <td>1.75</td>\n",
       "      <td>17.5</td>\n",
       "      <td>3.411304</td>\n",
       "      <td>[[0.23836405898039204, 0.24317223868549007, 0....</td>\n",
       "    </tr>\n",
       "    <tr>\n",
       "      <th>19</th>\n",
       "      <td>2</td>\n",
       "      <td>17.5</td>\n",
       "      <td>3.997014</td>\n",
       "      <td>[[0.010165913567706353, 0.016115083999867823, ...</td>\n",
       "    </tr>\n",
       "    <tr>\n",
       "      <th>2</th>\n",
       "      <td>1.5</td>\n",
       "      <td>10</td>\n",
       "      <td>3.717452</td>\n",
       "      <td>[[0.8747814131488088, 0.8764075060830647, 0.87...</td>\n",
       "    </tr>\n",
       "    <tr>\n",
       "      <th>20</th>\n",
       "      <td>1</td>\n",
       "      <td>20</td>\n",
       "      <td>3.219639</td>\n",
       "      <td>[[0.8831379781472978, 0.8847222882565613, 0.88...</td>\n",
       "    </tr>\n",
       "    <tr>\n",
       "      <th>21</th>\n",
       "      <td>1.25</td>\n",
       "      <td>20</td>\n",
       "      <td>4.190523</td>\n",
       "      <td>[[0.6218702958302449, 0.6247609443510936, 0.62...</td>\n",
       "    </tr>\n",
       "    <tr>\n",
       "      <th>22</th>\n",
       "      <td>1.5</td>\n",
       "      <td>20</td>\n",
       "      <td>2.759685</td>\n",
       "      <td>[[0.548109362789934, 0.5513688159759844, 0.554...</td>\n",
       "    </tr>\n",
       "    <tr>\n",
       "      <th>23</th>\n",
       "      <td>1.75</td>\n",
       "      <td>20</td>\n",
       "      <td>2.517876</td>\n",
       "      <td>[[0.6807145632134056, 0.6833109903973386, 0.68...</td>\n",
       "    </tr>\n",
       "    <tr>\n",
       "      <th>24</th>\n",
       "      <td>2</td>\n",
       "      <td>20</td>\n",
       "      <td>3.762691</td>\n",
       "      <td>[[0.33308752472063174, 0.3374220870970286, 0.3...</td>\n",
       "    </tr>\n",
       "    <tr>\n",
       "      <th>3</th>\n",
       "      <td>1.75</td>\n",
       "      <td>10</td>\n",
       "      <td>2.430512</td>\n",
       "      <td>[[0.777220540335722, 0.7793344376340433, 0.781...</td>\n",
       "    </tr>\n",
       "    <tr>\n",
       "      <th>4</th>\n",
       "      <td>2</td>\n",
       "      <td>10</td>\n",
       "      <td>2.673543</td>\n",
       "      <td>[[0.6396482745197727, 0.6424500331471739, 0.64...</td>\n",
       "    </tr>\n",
       "    <tr>\n",
       "      <th>5</th>\n",
       "      <td>1</td>\n",
       "      <td>12.5</td>\n",
       "      <td>2.629363</td>\n",
       "      <td>[[0.8200536801450511, 0.8219534117443258, 0.82...</td>\n",
       "    </tr>\n",
       "    <tr>\n",
       "      <th>6</th>\n",
       "      <td>1.25</td>\n",
       "      <td>12.5</td>\n",
       "      <td>3.099022</td>\n",
       "      <td>[[0.18312754714390844, 0.1882119094081889, 0.1...</td>\n",
       "    </tr>\n",
       "    <tr>\n",
       "      <th>7</th>\n",
       "      <td>1.5</td>\n",
       "      <td>12.5</td>\n",
       "      <td>2.809551</td>\n",
       "      <td>[[0.7673263901771283, 0.7694897582262427, 0.77...</td>\n",
       "    </tr>\n",
       "    <tr>\n",
       "      <th>8</th>\n",
       "      <td>1.75</td>\n",
       "      <td>12.5</td>\n",
       "      <td>2.256742</td>\n",
       "      <td>[[0.7044317545719453, 0.7069095957990855, 0.70...</td>\n",
       "    </tr>\n",
       "    <tr>\n",
       "      <th>9</th>\n",
       "      <td>2</td>\n",
       "      <td>12.5</td>\n",
       "      <td>3.790783</td>\n",
       "      <td>[[0.8796210674657178, 0.8812229621283892, 0.88...</td>\n",
       "    </tr>\n",
       "  </tbody>\n",
       "</table>\n",
       "</div>"
      ],
      "text/plain": [
       "     b_e tau_e    metric                                              trace\n",
       "0      1    10  2.926179  [[0.5148905809177547, 0.518316128013166, 0.521...\n",
       "1   1.25    10  3.432084  [[0.5977121360753959, 0.6007235753950189, 0.60...\n",
       "10     1    15  2.484533  [[0.16821764963137054, 0.1733765613832137, 0.1...\n",
       "11  1.25    15  2.609027  [[0.43913024643033616, 0.44293459519818446, 0....\n",
       "12   1.5    15  2.658088  [[0.054215300618361884, 0.059944224115270076, ...\n",
       "13  1.75    15  2.051392  [[0.1200261452984529, 0.12542601457196065, 0.1...\n",
       "14     2    15  2.753020  [[0.6171896666184423, 0.6201037182853502, 0.62...\n",
       "15     1  17.5  3.110651  [[0.026429144847883723, 0.0322969991236443, 0....\n",
       "16  1.25  17.5  3.003202  [[0.6278581000626245, 0.6307188095623114, 0.63...\n",
       "17   1.5  17.5  3.020776  [[0.33985533343162455, 0.3441560567644664, 0.3...\n",
       "18  1.75  17.5  3.411304  [[0.23836405898039204, 0.24317223868549007, 0....\n",
       "19     2  17.5  3.997014  [[0.010165913567706353, 0.016115083999867823, ...\n",
       "2    1.5    10  3.717452  [[0.8747814131488088, 0.8764075060830647, 0.87...\n",
       "20     1    20  3.219639  [[0.8831379781472978, 0.8847222882565613, 0.88...\n",
       "21  1.25    20  4.190523  [[0.6218702958302449, 0.6247609443510936, 0.62...\n",
       "22   1.5    20  2.759685  [[0.548109362789934, 0.5513688159759844, 0.554...\n",
       "23  1.75    20  2.517876  [[0.6807145632134056, 0.6833109903973386, 0.68...\n",
       "24     2    20  3.762691  [[0.33308752472063174, 0.3374220870970286, 0.3...\n",
       "3   1.75    10  2.430512  [[0.777220540335722, 0.7793344376340433, 0.781...\n",
       "4      2    10  2.673543  [[0.6396482745197727, 0.6424500331471739, 0.64...\n",
       "5      1  12.5  2.629363  [[0.8200536801450511, 0.8219534117443258, 0.82...\n",
       "6   1.25  12.5  3.099022  [[0.18312754714390844, 0.1882119094081889, 0.1...\n",
       "7    1.5  12.5  2.809551  [[0.7673263901771283, 0.7694897582262427, 0.77...\n",
       "8   1.75  12.5  2.256742  [[0.7044317545719453, 0.7069095957990855, 0.70...\n",
       "9      2  12.5  3.790783  [[0.8796210674657178, 0.8812229621283892, 0.88..."
      ]
     },
     "execution_count": 12,
     "metadata": {},
     "output_type": "execute_result"
    }
   ],
   "source": [
    "ex.df"
   ]
  },
  {
   "cell_type": "code",
   "execution_count": 19,
   "metadata": {
    "pycharm": {
     "name": "#%%\n"
    }
   },
   "outputs": [
    {
     "data": {
      "image/png": "[encoded data removed]",
      "text/plain": [
       "<Figure size 432x288 with 2 Axes>"
      ]
     },
     "metadata": {
      "needs_background": "light"
     },
     "output_type": "display_data"
    }
   ],
   "source": [
    "pivoted = ex.df.pivot_table(values='metric', index = 'tau_e', columns='b_e')\n",
    "plt.imshow(\n",
    "    pivoted,\n",
    "    extent = [\n",
    "        min(ex.df.b_e), max(ex.df.b_e),\n",
    "        min(ex.df.tau_e), max(ex.df.tau_e)\n",
    "    ],\n",
    "    origin='lower',\n",
    "    aspect='auto'\n",
    ")\n",
    "plt.colorbar(label='Metric')\n",
    "plt.xlabel(\"b_e\")\n",
    "plt.ylabel(\"tau_e\")\n",
    "plt.show()"
   ]
  }
 ],
 "metadata": {
  "kernelspec": {
   "display_name": "Python 3.7.7 64-bit ('venv': venv)",
   "language": "python",
   "name": "python37764bitvenvvenv070273da52c34e6e938d58c875445e0d"
  },
  "language_info": {
   "codemirror_mode": {
    "name": "ipython",
    "version": 3
   },
   "file_extension": ".py",
   "mimetype": "text/x-python",
   "name": "python",
   "nbconvert_exporter": "python",
   "pygments_lexer": "ipython3",
   "version": "3.7.9"
  }
 },
 "nbformat": 4,
 "nbformat_minor": 1
}
