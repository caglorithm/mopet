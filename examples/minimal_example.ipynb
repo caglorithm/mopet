{
 "cells": [
  {
   "cell_type": "markdown",
   "metadata": {},
   "source": [
    "# A very basic exploration"
   ]
  },
  {
   "cell_type": "markdown",
   "metadata": {},
   "source": [
    "In this example, we will perform a basic exploration with `mopet`. To demonstrate the usage, we will simply scan a 2D surface and, at each point, return a number that is equal to the distance to a unit circle. Of course, this is not a realistic experiment for parameter exploration but it serves as a simplified example."
   ]
  },
  {
   "cell_type": "code",
   "execution_count": 1,
   "metadata": {},
   "outputs": [],
   "source": [
    "# change into the root directory of the project\n",
    "import os\n",
    "if os.getcwd().split(\"/\")[-1] == \"examples\":\n",
    "    os.chdir('..')\n",
    "    \n",
    "%load_ext autoreload\n",
    "%autoreload 2\n",
    "\n",
    "import logging\n",
    "logger = logging.getLogger()\n",
    "logger.setLevel(logging.INFO)"
   ]
  },
  {
   "cell_type": "code",
   "execution_count": null,
   "metadata": {
    "scrolled": true
   },
   "outputs": [],
   "source": [
    "import numpy as np\n",
    "!pip install matplotlib\n",
    "import matplotlib.pyplot as plt\n",
    "import mopet\n",
    "\n",
    "# a nice color map\n",
    "plt.rcParams['image.cmap'] = 'plasma'\n",
    "\n",
    "def evalFunction(params):\n",
    "    result_float = abs((params[\"x\"] ** 2 + params[\"y\"] ** 2) - 1)\n",
    "    result_array = np.random.randn(np.random.randint(1, 131), np.random.randint(1, 5000))\n",
    "    result = {}\n",
    "    result[\"float_result\"] = result_float\n",
    "    result[\"array_result\"] = result_array\n",
    "    return result\n",
    "\n",
    "explore_params = {\"x\": np.linspace(-2, 2, 21), \"y\": np.linspace(-2, 2, 21)}\n",
    "\n",
    "# we need this random filename to avoid testing clashes\n",
    "hdf_filename = f\"exploration-{np.random.randint(99999)}.h5\"\n",
    "ex = mopet.Exploration(evalFunction, explore_params, hdf_filename=hdf_filename)"
   ]
  },
  {
   "cell_type": "code",
   "execution_count": 3,
   "metadata": {},
   "outputs": [
    {
     "name": "stderr",
     "output_type": "stream",
     "text": [
      "2021-02-15 13:58:23,782\tINFO resource_spec.py:212 -- Starting Ray with 3.91 GiB memory available for workers and up to 1.96 GiB for objects. You can adjust these settings with ray.init(memory=<bytes>, object_store_memory=<bytes>).\n",
      "2021-02-15 13:58:24,138\tINFO services.py:1093 -- View the Ray dashboard at \u001b[1m\u001b[32mlocalhost:8265\u001b[39m\u001b[22m\n",
      "INFO:root:Starting 441 jobs.\n",
      "100%|██████████| 441/441 [00:00<00:00, 457.14it/s]\n",
      "INFO:root:Runs took 0.9735679626464844 s to submit.\n",
      "100%|██████████| 441/441 [00:03<00:00, 118.17it/s]\n",
      "INFO:root:Runs and storage took 3.7421679496765137 s to complete.\n"
     ]
    }
   ],
   "source": [
    "ex.run()"
   ]
  },
  {
   "cell_type": "code",
   "execution_count": 7,
   "metadata": {},
   "outputs": [
    {
     "name": "stderr",
     "output_type": "stream",
     "text": [
      "INFO:root:exploration-55740.h5 opened for reading.\n",
      "INFO:root:Gettings runs of exploration ``exploration_2021_02_15_13H_58M_23S``\n",
      "100%|██████████| 441/441 [00:00<00:00, 903.61it/s]\n",
      "INFO:root:Creating new results DataFrame\n",
      "INFO:root:Aggregating all results ...\n",
      "100%|██████████| 441/441 [00:01<00:00, 413.07it/s]\n",
      "INFO:root:exploration-55740.h5 closed.\n"
     ]
    }
   ],
   "source": [
    "ex.load_results(arrays=True)"
   ]
  },
  {
   "cell_type": "code",
   "execution_count": 5,
   "metadata": {
    "scrolled": true
   },
   "outputs": [
    {
     "data": {
      "text/plain": [
       "441"
      ]
     },
     "execution_count": 5,
     "metadata": {},
     "output_type": "execute_result"
    }
   ],
   "source": [
    "len(ex.results)"
   ]
  },
  {
   "cell_type": "code",
   "execution_count": 6,
   "metadata": {},
   "outputs": [
    {
     "name": "stderr",
     "output_type": "stream",
     "text": [
      "INFO:root:exploration.h5 opened for reading.\n"
     ]
    },
    {
     "data": {
      "text/plain": [
       "{'array_result': array([[ 5.97391695e-01, -1.85095801e+00,  6.36841315e-01, ...,\n",
       "         -3.62676558e-01, -2.09826990e-01,  1.40291897e+00],\n",
       "        [ 1.75607948e+00,  1.05066847e+00,  8.95172810e-01, ...,\n",
       "         -7.77506344e-01, -9.06090056e-01,  9.48383121e-04],\n",
       "        [-2.20332623e-01,  6.78649005e-01, -8.93520258e-01, ...,\n",
       "         -2.22872632e+00, -1.19226748e+00, -1.38276576e-01],\n",
       "        ...,\n",
       "        [ 7.76605125e-01, -5.22077056e-01,  4.18754799e-01, ...,\n",
       "          1.15120920e+00, -3.58705657e-01, -9.63737910e-01],\n",
       "        [ 2.55826835e+00, -5.37584683e-01,  6.39454329e-01, ...,\n",
       "         -1.99267714e-01,  5.92317635e-01, -7.96497612e-01],\n",
       "        [ 3.18325277e-01,  2.13536242e+00,  1.12065066e+00, ...,\n",
       "         -4.70540293e-01,  1.08954728e+00,  4.97407056e-01]]),\n",
       " 'float_result': 7.0}"
      ]
     },
     "execution_count": 6,
     "metadata": {},
     "output_type": "execute_result"
    }
   ],
   "source": [
    "ex.get_run(0)"
   ]
  },
  {
   "cell_type": "code",
   "execution_count": 7,
   "metadata": {
    "scrolled": true
   },
   "outputs": [],
   "source": [
    "for r in ex.df.index:\n",
    "    ex.df.loc[r, \"mean_array_result\"] = np.mean(ex.get_run(r)['array_result'])"
   ]
  },
  {
   "cell_type": "code",
   "execution_count": 8,
   "metadata": {},
   "outputs": [
    {
     "data": {
      "text/html": [
       "<div>\n",
       "<style scoped>\n",
       "    .dataframe tbody tr th:only-of-type {\n",
       "        vertical-align: middle;\n",
       "    }\n",
       "\n",
       "    .dataframe tbody tr th {\n",
       "        vertical-align: top;\n",
       "    }\n",
       "\n",
       "    .dataframe thead th {\n",
       "        text-align: right;\n",
       "    }\n",
       "</style>\n",
       "<table border=\"1\" class=\"dataframe\">\n",
       "  <thead>\n",
       "    <tr style=\"text-align: right;\">\n",
       "      <th></th>\n",
       "      <th>x</th>\n",
       "      <th>y</th>\n",
       "      <th>float_result</th>\n",
       "      <th>mean_array_result</th>\n",
       "    </tr>\n",
       "  </thead>\n",
       "  <tbody>\n",
       "    <tr>\n",
       "      <th>0</th>\n",
       "      <td>-2</td>\n",
       "      <td>-2</td>\n",
       "      <td>7.00</td>\n",
       "      <td>0.006656</td>\n",
       "    </tr>\n",
       "    <tr>\n",
       "      <th>1</th>\n",
       "      <td>-2</td>\n",
       "      <td>-1.8</td>\n",
       "      <td>6.24</td>\n",
       "      <td>0.000567</td>\n",
       "    </tr>\n",
       "    <tr>\n",
       "      <th>10</th>\n",
       "      <td>-2</td>\n",
       "      <td>0</td>\n",
       "      <td>3.00</td>\n",
       "      <td>0.002344</td>\n",
       "    </tr>\n",
       "    <tr>\n",
       "      <th>100</th>\n",
       "      <td>-1.2</td>\n",
       "      <td>1.2</td>\n",
       "      <td>1.88</td>\n",
       "      <td>-0.000210</td>\n",
       "    </tr>\n",
       "    <tr>\n",
       "      <th>101</th>\n",
       "      <td>-1.2</td>\n",
       "      <td>1.4</td>\n",
       "      <td>2.40</td>\n",
       "      <td>0.003098</td>\n",
       "    </tr>\n",
       "    <tr>\n",
       "      <th>...</th>\n",
       "      <td>...</td>\n",
       "      <td>...</td>\n",
       "      <td>...</td>\n",
       "      <td>...</td>\n",
       "    </tr>\n",
       "    <tr>\n",
       "      <th>95</th>\n",
       "      <td>-1.2</td>\n",
       "      <td>0.2</td>\n",
       "      <td>0.48</td>\n",
       "      <td>0.003001</td>\n",
       "    </tr>\n",
       "    <tr>\n",
       "      <th>96</th>\n",
       "      <td>-1.2</td>\n",
       "      <td>0.4</td>\n",
       "      <td>0.60</td>\n",
       "      <td>-0.000337</td>\n",
       "    </tr>\n",
       "    <tr>\n",
       "      <th>97</th>\n",
       "      <td>-1.2</td>\n",
       "      <td>0.6</td>\n",
       "      <td>0.80</td>\n",
       "      <td>0.001959</td>\n",
       "    </tr>\n",
       "    <tr>\n",
       "      <th>98</th>\n",
       "      <td>-1.2</td>\n",
       "      <td>0.8</td>\n",
       "      <td>1.08</td>\n",
       "      <td>-0.010278</td>\n",
       "    </tr>\n",
       "    <tr>\n",
       "      <th>99</th>\n",
       "      <td>-1.2</td>\n",
       "      <td>1</td>\n",
       "      <td>1.44</td>\n",
       "      <td>0.002511</td>\n",
       "    </tr>\n",
       "  </tbody>\n",
       "</table>\n",
       "<p>441 rows × 4 columns</p>\n",
       "</div>"
      ],
      "text/plain": [
       "       x    y  float_result  mean_array_result\n",
       "0     -2   -2          7.00           0.006656\n",
       "1     -2 -1.8          6.24           0.000567\n",
       "10    -2    0          3.00           0.002344\n",
       "100 -1.2  1.2          1.88          -0.000210\n",
       "101 -1.2  1.4          2.40           0.003098\n",
       "..   ...  ...           ...                ...\n",
       "95  -1.2  0.2          0.48           0.003001\n",
       "96  -1.2  0.4          0.60          -0.000337\n",
       "97  -1.2  0.6          0.80           0.001959\n",
       "98  -1.2  0.8          1.08          -0.010278\n",
       "99  -1.2    1          1.44           0.002511\n",
       "\n",
       "[441 rows x 4 columns]"
      ]
     },
     "execution_count": 8,
     "metadata": {},
     "output_type": "execute_result"
    }
   ],
   "source": [
    "ex.df.dropna(axis='columns', how='all')"
   ]
  },
  {
   "cell_type": "code",
   "execution_count": 9,
   "metadata": {},
   "outputs": [],
   "source": [
    "pivoted = ex.df.pivot_table(values='float_result', index = 'y', columns='x', aggfunc='first')"
   ]
  },
  {
   "cell_type": "code",
   "execution_count": 10,
   "metadata": {},
   "outputs": [
    {
     "data": {
      "text/plain": [
       "Text(0, 0.5, 'y')"
      ]
     },
     "execution_count": 10,
     "metadata": {},
     "output_type": "execute_result"
    },
    {
     "data": {
      "image/png": "[encoded data removed]",
      "text/plain": [
       "<Figure size 432x288 with 2 Axes>"
      ]
     },
     "metadata": {
      "needs_background": "light"
     },
     "output_type": "display_data"
    }
   ],
   "source": [
    "plt.imshow(pivoted, \\\n",
    "           extent = [min(ex.df.x), max(ex.df.x),\n",
    "                     min(ex.df.y), max(ex.df.y)], origin='lower')\n",
    "plt.colorbar(label='Distance from unit circle')\n",
    "plt.xlabel(\"x\")\n",
    "plt.ylabel(\"y\")"
   ]
  }
 ],
 "metadata": {
  "kernelspec": {
   "display_name": "Python 3",
   "language": "python",
   "name": "python3"
  },
  "language_info": {
   "codemirror_mode": {
    "name": "ipython",
    "version": 3
   },
   "file_extension": ".py",
   "mimetype": "text/x-python",
   "name": "python",
   "nbconvert_exporter": "python",
   "pygments_lexer": "ipython3",
   "version": "3.7.3"
  }
 },
 "nbformat": 4,
 "nbformat_minor": 4
}
